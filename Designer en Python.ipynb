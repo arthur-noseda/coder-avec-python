{
 "cells": [
  {
   "cell_type": "markdown",
   "id": "820b2d37-5baa-4b3e-b816-f30333b4484d",
   "metadata": {},
   "source": [
    "# Designer en Python\n",
    "\n",
    "En informatique, pour un problème donné, il existe quantité de solutions différentes, dont les qualités respectives peuvent être comparées.\n",
    "Dans ce notebook, nous allons voir comment un simple problème de géométrie, la modélisation d'un rectangle à partir de ses dimensions, peut être résolu de diverses façons.\n",
    "\n",
    "## Approche fonctionnelle\n",
    "\n",
    "Soient `a` et `b` les dimensions du rectangle."
   ]
  },
  {
   "cell_type": "code",
   "execution_count": 1,
   "id": "2fc92a27-fc0a-4d4a-b2fe-7c7386a32ed9",
   "metadata": {},
   "outputs": [],
   "source": [
    "from math import sqrt\n",
    "\n",
    "def perimetre_rectangle(a: float, b: float) -> float:\n",
    "    return 2 * (a + b)\n",
    "\n",
    "def aire_rectangle(a: float, b: float) -> float:\n",
    "    return a * b\n",
    "\n",
    "def diagonale_rectangle(a: float, b: float) -> float:\n",
    "    return sqrt(a ** 2 + b ** 2)"
   ]
  },
  {
   "cell_type": "code",
   "execution_count": 2,
   "id": "509d3715-5057-4094-8240-ad71067e78d3",
   "metadata": {},
   "outputs": [
    {
     "name": "stdout",
     "output_type": "stream",
     "text": [
      "Le périmètre du rectangle est 14.0 m.\n",
      "L'aire du rectangle est 12.0 m².\n",
      "La diagonale du rectangle est 5.0 m.\n"
     ]
    }
   ],
   "source": [
    "print(f\"Le périmètre du rectangle est {perimetre_rectangle(3., 4.)} m.\")\n",
    "print(f\"L'aire du rectangle est {aire_rectangle(3., 4.)} m².\")\n",
    "print(f\"La diagonale du rectangle est {diagonale_rectangle(3., 4.)} m.\")"
   ]
  },
  {
   "cell_type": "markdown",
   "id": "e8f05bec-f47d-474a-8ca6-c735f9920065",
   "metadata": {},
   "source": [
    "## Une première approche objet\n",
    "\n",
    "Dans l'approche fonctionnelle, les trois fonctions partagent des points communs :\n",
    "\n",
    "* Elles sont suffixées `_rectangle` pour les différencier de fonctions similaires qui s'appliqueraient à d'autres géométries.\n",
    "* Elles prennent les mêmes paramètres `a` et `b` en paramètre.\n",
    "\n",
    "Une approche objet paraît adaptée."
   ]
  },
  {
   "cell_type": "code",
   "execution_count": 3,
   "id": "5f3c6e0e-9d3b-4ba6-bac6-a9cbe9ed97f7",
   "metadata": {},
   "outputs": [],
   "source": [
    "from math import sqrt\n",
    "\n",
    "class Rectangle:\n",
    "\n",
    "    def __init__(self, a: float, b: float):\n",
    "        self.a = a\n",
    "        self.b = b\n",
    "\n",
    "    def perimetre(self) -> float:\n",
    "        return 2 * (self.a + self.b)\n",
    "\n",
    "    def aire(self) -> float:\n",
    "        return self.a * self.b\n",
    "\n",
    "    def diagonale(self) -> float:\n",
    "        return sqrt(self.a ** 2 + self.b ** 2)"
   ]
  },
  {
   "cell_type": "markdown",
   "id": "cbd8499d-06ab-47d0-9f85-36dcd9807c33",
   "metadata": {},
   "source": [
    "Cette modélisation est très simple et très efficace.\n",
    "Périmètre, aire et diagonale ne seront calculés, comme dans l'approche fonctionnelle, que si l'utilisateur de la classe `Rectangle` appelle les méthodes correspondantes.\n",
    "Du point de vue de l'occupation mémoire, chaque instance de `Rectangle` est entièrement définie par `self.a` et `self.b`."
   ]
  },
  {
   "cell_type": "code",
   "execution_count": 4,
   "id": "c65863ab-44dd-4b51-bbfb-8c25c914733e",
   "metadata": {},
   "outputs": [
    {
     "name": "stdout",
     "output_type": "stream",
     "text": [
      "Le périmètre du rectangle est 14.0 m.\n",
      "L'aire du rectangle est 12.0 m².\n",
      "La diagonale du rectangle est 5.0 m.\n"
     ]
    }
   ],
   "source": [
    "r = Rectangle(3., 4.)\n",
    "print(f\"Le périmètre du rectangle est {r.perimetre()} m.\")\n",
    "print(f\"L'aire du rectangle est {r.aire()} m².\")\n",
    "print(f\"La diagonale du rectangle est {r.diagonale()} m.\")"
   ]
  },
  {
   "cell_type": "markdown",
   "id": "387b9631-2848-434e-93e8-fb34cd1cfa2e",
   "metadata": {},
   "source": [
    "## Optimiser le temps d'exécution\n",
    "\n",
    "En supposant qu'on accède souvent au périmètre, à l'aire et à la diagonale d'un rectangle dont les dimensions changent rarement, l'intuition conduit à l'idée de les précalculer, pour [optimiser](https://fr.wikipedia.org/wiki/Optimisation_de_code) le temps d'exécution."
   ]
  },
  {
   "cell_type": "code",
   "execution_count": 5,
   "id": "75b815d1-ace4-4bd2-a377-8fb40b45f537",
   "metadata": {},
   "outputs": [],
   "source": [
    "from math import sqrt\n",
    "\n",
    "class Rectangle:\n",
    "\n",
    "    def __init__(self, a: float, b: float):\n",
    "        self.a = a\n",
    "        self.b = b\n",
    "        self.perimetre = 2 * (self.a + self.b)\n",
    "        self.aire = self.a * self.b\n",
    "        self.diagonale = sqrt(self.a ** 2 + self.b ** 2)"
   ]
  },
  {
   "cell_type": "markdown",
   "id": "3e6c1bcc-be92-485d-b239-10f52425de1f",
   "metadata": {},
   "source": [
    "Cette implémentation est en réalité beaucoup plus fragile que la première.\n",
    "En particulier, l'[encapsulation](https://fr.wikipedia.org/wiki/Encapsulation_(programmation)) a été perdue.\n",
    "Plusieurs familles de bugs peuvent se produire."
   ]
  },
  {
   "cell_type": "code",
   "execution_count": 6,
   "id": "589d1d47-fc26-442f-b12e-2c8d3c48ba85",
   "metadata": {},
   "outputs": [
    {
     "name": "stdout",
     "output_type": "stream",
     "text": [
      "Le périmètre du rectangle est 14.0 m.\n",
      "Le périmètre du rectangle est 14.0 m.\n"
     ]
    }
   ],
   "source": [
    "r = Rectangle(3., 4.)\n",
    "print(f\"Le périmètre du rectangle est {r.perimetre} m.\")\n",
    "\n",
    "r.a = 1.\n",
    "print(f\"Le périmètre du rectangle est {r.perimetre} m.\")"
   ]
  },
  {
   "cell_type": "markdown",
   "id": "3bd0a258-4d74-4298-b85c-860689929c00",
   "metadata": {},
   "source": [
    "En particulier la modification des dimensions n'entraîne pas la modification du périmètre."
   ]
  },
  {
   "cell_type": "markdown",
   "id": "fc883cac-3a36-4ac3-be2b-5838b8ab578f",
   "metadata": {},
   "source": [
    "## Définir des propriétés\n",
    "\n",
    "Pour restaurer l'encapsulation, il faut introduire la notion de [propriété](https://docs.python.org/fr/3.15/library/functions.html#property).\n",
    "Sommairement, une propriété permet d'encapsuler un attribut à l'aide d'un accesseur et d'un mutateur (_getter_ et _setter_ en anglais).\n",
    "\n",
    "Du point de vue du code, rien ne distingue un accesseur ou un mutateur d'une méthode ordinaire.\n",
    "En revanche, du point de vue du développeur, ils jouent un rôle sémantique fondamental :\n",
    "\n",
    "* Un accesseur permet d'accéder à un attribut/propriété sans [effet de bord](https://fr.wikipedia.org/wiki/Effet_de_bord_(informatique)).\n",
    "* Un mutateur modifie un attribut/propriété et ne retourne pas de valeur.\n",
    "\n",
    "⚠️ L'encapsulation en Python repose sur des conventions.\n",
    "Un attribut est considéré privé s'il commence par un `_`.\n",
    "Un attribut privé ne devrait jamais être manipulé hors de sa classe."
   ]
  },
  {
   "cell_type": "code",
   "execution_count": 7,
   "id": "698c6b71-a9d6-4524-bdb1-3d24bee7423a",
   "metadata": {},
   "outputs": [],
   "source": [
    "from math import sqrt\n",
    "\n",
    "class Rectangle:\n",
    "\n",
    "    def __init__(self, a: float, b: float):\n",
    "        self._a = a\n",
    "        self._b = b\n",
    "        self._recalculer()\n",
    "\n",
    "    def _recalculer(self):\n",
    "        self._perimetre = 2 * (self._a + self._b)\n",
    "        self._aire = self._a * self._b\n",
    "        self._diagonale = sqrt(self._a ** 2 + self._b ** 2)\n",
    "\n",
    "    def get_a(self) -> float:\n",
    "        return self._a\n",
    "\n",
    "    def set_a(self, a: float):\n",
    "        self._a = a\n",
    "        self._recalculer()\n",
    "\n",
    "    def get_b(self) -> float:\n",
    "        return self._b\n",
    "\n",
    "    def set_b(self, b: float):\n",
    "        self._b = b\n",
    "        self._recalculer()\n",
    "\n",
    "    def get_perimetre(self) -> float:\n",
    "        return self._perimetre\n",
    "\n",
    "    def get_aire(self) -> float:\n",
    "        return self._aire\n",
    "\n",
    "    def get_diagonale(self) -> float:\n",
    "        return self._diagonale\n",
    "\n",
    "    a = property(get_a, set_a)\n",
    "    b = property(get_b, set_b)\n",
    "    perimetre = property(get_perimetre)\n",
    "    aire = property(get_aire)\n",
    "    diagonale = property(get_diagonale)"
   ]
  },
  {
   "cell_type": "markdown",
   "id": "29ec3141-c6f3-4a00-994d-9a324cce9e02",
   "metadata": {},
   "source": [
    "Le nombre de lignes de code a significativement augmenté !\n",
    "En termes de maintenabilité, on peut se demander si précalculer périmètre, aire et diagonale était une si bonne idée.\n",
    "Comme disait [Dijkstra](https://fr.wikipedia.org/wiki/Edsger_Dijkstra) : \"L'optimisation prématurée est la source de tous les maux.\""
   ]
  },
  {
   "cell_type": "code",
   "execution_count": 8,
   "id": "f9ee3642-55d0-412a-91e3-9b0f1de29af1",
   "metadata": {},
   "outputs": [
    {
     "name": "stdout",
     "output_type": "stream",
     "text": [
      "Le périmètre du rectangle est 14.0 m.\n",
      "Le périmètre du rectangle est 10.0 m.\n",
      "L'aire du rectangle est 4.0 m².\n",
      "La diagonale du rectangle est 4.123105625617661 m.\n"
     ]
    }
   ],
   "source": [
    "r = Rectangle(3., 4.)\n",
    "print(f\"Le périmètre du rectangle est {r.perimetre} m.\")\n",
    "\n",
    "r.a = 1.\n",
    "print(f\"Le périmètre du rectangle est {r.perimetre} m.\")\n",
    "print(f\"L'aire du rectangle est {r.aire} m².\")\n",
    "print(f\"La diagonale du rectangle est {r.diagonale} m.\")"
   ]
  },
  {
   "cell_type": "markdown",
   "id": "8306aa69-021b-417c-a0af-ee01ab700b3a",
   "metadata": {},
   "source": [
    "En l'absence de mutateur, périmètre, aire et diagonale ne sont pas modifiables."
   ]
  },
  {
   "cell_type": "code",
   "execution_count": 9,
   "id": "78dc508a-5d97-4edf-9346-f25583b9b7c7",
   "metadata": {},
   "outputs": [
    {
     "ename": "AttributeError",
     "evalue": "property 'perimetre' of 'Rectangle' object has no setter",
     "output_type": "error",
     "traceback": [
      "\u001b[31m---------------------------------------------------------------------------\u001b[39m",
      "\u001b[31mAttributeError\u001b[39m                            Traceback (most recent call last)",
      "\u001b[36mCell\u001b[39m\u001b[36m \u001b[39m\u001b[32mIn[9]\u001b[39m\u001b[32m, line 1\u001b[39m\n\u001b[32m----> \u001b[39m\u001b[32m1\u001b[39m \u001b[43mr\u001b[49m\u001b[43m.\u001b[49m\u001b[43mperimetre\u001b[49m = \u001b[32m10\u001b[39m\n",
      "\u001b[31mAttributeError\u001b[39m: property 'perimetre' of 'Rectangle' object has no setter"
     ]
    }
   ],
   "source": [
    "r.perimetre = 10"
   ]
  },
  {
   "cell_type": "markdown",
   "id": "391d528d-91e5-4657-a416-0f588f2a490e",
   "metadata": {},
   "source": [
    "## Une syntaxe plus concise avec les décorateurs\n",
    "\n",
    "Les [décorateurs](https://docs.python.org/fr/3.15/glossary.html#term-decorator) permettent d'obtenir le même comportement, avec une syntaxe allégée."
   ]
  },
  {
   "cell_type": "code",
   "execution_count": 10,
   "id": "f5bd65a7-ea4f-47ee-88cf-7a0d6ba950cf",
   "metadata": {},
   "outputs": [],
   "source": [
    "from math import sqrt\n",
    "\n",
    "class Rectangle:\n",
    "\n",
    "    def __init__(self, a: float, b: float):\n",
    "        self._a = a\n",
    "        self._b = b\n",
    "        self._recalculer()\n",
    "\n",
    "    def _recalculer(self):\n",
    "        self._perimetre = 2 * (self._a + self._b)\n",
    "        self._aire = self._a * self._b\n",
    "        self._diagonale = sqrt(self._a ** 2 + self._b ** 2)\n",
    "\n",
    "    @property\n",
    "    def a(self) -> float:\n",
    "        return self._a\n",
    "\n",
    "    @a.setter\n",
    "    def a(self, new_a: float):\n",
    "        self._a = new_a\n",
    "        self._recalculer()\n",
    "\n",
    "    @property\n",
    "    def b(self) -> float:\n",
    "        return self._b\n",
    "\n",
    "    @b.setter\n",
    "    def b(self, new_b: float):\n",
    "        self._b = new_b\n",
    "        self._recalculer()\n",
    "\n",
    "    @property\n",
    "    def perimetre(self) -> float:\n",
    "        return self._perimetre\n",
    "\n",
    "    @property\n",
    "    def aire(self) -> float:\n",
    "        return self._aire\n",
    "\n",
    "    @property\n",
    "    def diagonale(self) -> float:\n",
    "        return self._diagonale"
   ]
  },
  {
   "cell_type": "markdown",
   "id": "8aa7bfcb-743c-4036-94f9-e70ed9112c78",
   "metadata": {},
   "source": [
    "## Immu(t)abilité\n",
    "\n",
    "Jusqu'ici, les designs présentés permettent de modifier `a` et `b`.\n",
    "Toutefois, est-ce réellement un besoin ?\n",
    "D'autre part, d'un point de vue sémantique, est-ce que changer une dimension d'un rectangle ne revient pas, au fond, à changer _de_ rectangle ?"
   ]
  },
  {
   "cell_type": "code",
   "execution_count": 11,
   "id": "827bcec1-1bbd-47fe-866e-213e23a29977",
   "metadata": {},
   "outputs": [],
   "source": [
    "from math import sqrt\n",
    "\n",
    "class Rectangle:\n",
    "\n",
    "    def __init__(self, a: float, b: float):\n",
    "        self._a = a\n",
    "        self._b = b\n",
    "        self._perimetre = 2 * (self._a + self._b)\n",
    "        self._aire = self._a * self._b\n",
    "        self._diagonale = sqrt(self._a ** 2 + self._b ** 2) \n",
    "\n",
    "    @property\n",
    "    def a(self) -> float:\n",
    "        return self._a\n",
    "\n",
    "    def with_a(self, new_a: float) -> Rectangle:\n",
    "        return Rectangle(new_a, self.b)\n",
    "\n",
    "    @property\n",
    "    def b(self) -> float:\n",
    "        return self._b\n",
    "\n",
    "    def with_b(self, new_b: float) -> Rectangle:\n",
    "        return Rectangle(self.a, new_b)\n",
    "\n",
    "    @property\n",
    "    def perimetre(self) -> float:\n",
    "        return self._perimetre\n",
    "\n",
    "    @property\n",
    "    def aire(self) -> float:\n",
    "        return self._aire\n",
    "\n",
    "    @property\n",
    "    def diagonale(self) -> float:\n",
    "        return self._diagonale"
   ]
  },
  {
   "cell_type": "markdown",
   "id": "fcace13c-68dd-49a2-bfca-35177e8616eb",
   "metadata": {},
   "source": [
    "Le design ci-dessus produit une classe `Rectangle` [immuable](https://fr.wikipedia.org/wiki/Objet_immuable).\n",
    "\n",
    "Les méthodes `with_a(float)` et `with_b(float)` permettent de construire un nouveau `Rectangle` en spécifiant une nouvelle dimension.\n",
    "Ces méthodes sont parfaitement optionnelles."
   ]
  },
  {
   "cell_type": "code",
   "execution_count": 12,
   "id": "ee1ffd22-1ef1-4ed5-8b7f-840c9d36226f",
   "metadata": {},
   "outputs": [
    {
     "name": "stdout",
     "output_type": "stream",
     "text": [
      "Le périmètre du rectangle est 14.0 m.\n",
      "Le périmètre du rectangle est 10.0 m.\n",
      "L'aire du rectangle est 4.0 m².\n",
      "La diagonale du rectangle est 4.123105625617661 m.\n"
     ]
    }
   ],
   "source": [
    "r = Rectangle(3., 4.)\n",
    "print(f\"Le périmètre du rectangle est {r.perimetre} m.\")\n",
    "\n",
    "r = r.with_a(1.)\n",
    "print(f\"Le périmètre du rectangle est {r.perimetre} m.\")\n",
    "print(f\"L'aire du rectangle est {r.aire} m².\")\n",
    "print(f\"La diagonale du rectangle est {r.diagonale} m.\")"
   ]
  },
  {
   "cell_type": "code",
   "execution_count": 13,
   "id": "37d5aa62-43d1-42de-a69e-790fd52aa09e",
   "metadata": {},
   "outputs": [
    {
     "ename": "AttributeError",
     "evalue": "property 'a' of 'Rectangle' object has no setter",
     "output_type": "error",
     "traceback": [
      "\u001b[31m---------------------------------------------------------------------------\u001b[39m",
      "\u001b[31mAttributeError\u001b[39m                            Traceback (most recent call last)",
      "\u001b[36mCell\u001b[39m\u001b[36m \u001b[39m\u001b[32mIn[13]\u001b[39m\u001b[32m, line 1\u001b[39m\n\u001b[32m----> \u001b[39m\u001b[32m1\u001b[39m \u001b[43mr\u001b[49m\u001b[43m.\u001b[49m\u001b[43ma\u001b[49m = \u001b[32m1.\u001b[39m\n",
      "\u001b[31mAttributeError\u001b[39m: property 'a' of 'Rectangle' object has no setter"
     ]
    }
   ],
   "source": [
    "r.a = 1."
   ]
  },
  {
   "cell_type": "markdown",
   "id": "73bcf8d6-1042-4793-97f3-690fa79769e6",
   "metadata": {},
   "source": [
    "Dans ce design, `a` et `b` ne sont plus modifiables une fois le `Rectangle` créé."
   ]
  },
  {
   "cell_type": "markdown",
   "id": "c1467519-02af-4646-bbd1-46870a2f4550",
   "metadata": {},
   "source": [
    "## Validation\n",
    "\n",
    "Jusqu'à présent, les dimensions fournies par l'utilisateur de la classe `Rectangle` n'ont pas été questionnées.\n",
    "Le prochain design va assurer que `a` et `b` sont forcément positifs. "
   ]
  },
  {
   "cell_type": "code",
   "execution_count": 14,
   "id": "a5dbfc74-16a2-4ecc-8132-bbddb93f32b9",
   "metadata": {},
   "outputs": [],
   "source": [
    "from math import sqrt\n",
    "\n",
    "class Rectangle:\n",
    "\n",
    "    def __init__(self, a: float, b: float):\n",
    "        self._set_a(a)\n",
    "        self._set_b(b)\n",
    "\n",
    "    @property\n",
    "    def a(self) -> float:\n",
    "        return self._a\n",
    "\n",
    "    @a.setter\n",
    "    def a(self, a: float):\n",
    "        self._set_a(a)\n",
    "\n",
    "    def _set_a(self, a: float):\n",
    "        if not a > 0:\n",
    "            raise ValueError(\"a must be positive\")\n",
    "        self._a = a\n",
    "    \n",
    "    @property\n",
    "    def b(self) -> float:\n",
    "        return self._b\n",
    "\n",
    "    @b.setter\n",
    "    def b(self, b: float):\n",
    "        self._set_b(b)\n",
    "\n",
    "    def _set_b(self, b: float):\n",
    "        if not b > 0:\n",
    "            raise ValueError(\"b must be positive\")\n",
    "        self._b = b\n",
    "\n",
    "    def perimetre(self) -> float:\n",
    "        return 2 * (self._a + self._b)\n",
    "\n",
    "    def aire(self) -> float:\n",
    "        return self._a * self._b\n",
    "\n",
    "    def diagonale(self) -> float:\n",
    "        return sqrt(self._a ** 2 + self._b ** 2)"
   ]
  },
  {
   "cell_type": "code",
   "execution_count": 15,
   "id": "3162e1bf-f75e-45dd-a901-a4b993e5226c",
   "metadata": {},
   "outputs": [
    {
     "ename": "ValueError",
     "evalue": "b must be positive",
     "output_type": "error",
     "traceback": [
      "\u001b[31m---------------------------------------------------------------------------\u001b[39m",
      "\u001b[31mValueError\u001b[39m                                Traceback (most recent call last)",
      "\u001b[36mCell\u001b[39m\u001b[36m \u001b[39m\u001b[32mIn[15]\u001b[39m\u001b[32m, line 1\u001b[39m\n\u001b[32m----> \u001b[39m\u001b[32m1\u001b[39m r = \u001b[43mRectangle\u001b[49m\u001b[43m(\u001b[49m\u001b[32;43m3.\u001b[39;49m\u001b[43m,\u001b[49m\u001b[43m \u001b[49m\u001b[43m-\u001b[49m\u001b[32;43m4.\u001b[39;49m\u001b[43m)\u001b[49m\n",
      "\u001b[36mCell\u001b[39m\u001b[36m \u001b[39m\u001b[32mIn[14]\u001b[39m\u001b[32m, line 7\u001b[39m, in \u001b[36mRectangle.__init__\u001b[39m\u001b[34m(self, a, b)\u001b[39m\n\u001b[32m      5\u001b[39m \u001b[38;5;28;01mdef\u001b[39;00m\u001b[38;5;250m \u001b[39m\u001b[34m__init__\u001b[39m(\u001b[38;5;28mself\u001b[39m, a: \u001b[38;5;28mfloat\u001b[39m, b: \u001b[38;5;28mfloat\u001b[39m):\n\u001b[32m      6\u001b[39m     \u001b[38;5;28mself\u001b[39m._set_a(a)\n\u001b[32m----> \u001b[39m\u001b[32m7\u001b[39m     \u001b[38;5;28;43mself\u001b[39;49m\u001b[43m.\u001b[49m\u001b[43m_set_b\u001b[49m\u001b[43m(\u001b[49m\u001b[43mb\u001b[49m\u001b[43m)\u001b[49m\n",
      "\u001b[36mCell\u001b[39m\u001b[36m \u001b[39m\u001b[32mIn[14]\u001b[39m\u001b[32m, line 32\u001b[39m, in \u001b[36mRectangle._set_b\u001b[39m\u001b[34m(self, b)\u001b[39m\n\u001b[32m     30\u001b[39m \u001b[38;5;28;01mdef\u001b[39;00m\u001b[38;5;250m \u001b[39m\u001b[34m_set_b\u001b[39m(\u001b[38;5;28mself\u001b[39m, b: \u001b[38;5;28mfloat\u001b[39m):\n\u001b[32m     31\u001b[39m     \u001b[38;5;28;01mif\u001b[39;00m \u001b[38;5;129;01mnot\u001b[39;00m b > \u001b[32m0\u001b[39m:\n\u001b[32m---> \u001b[39m\u001b[32m32\u001b[39m         \u001b[38;5;28;01mraise\u001b[39;00m \u001b[38;5;167;01mValueError\u001b[39;00m(\u001b[33m\"\u001b[39m\u001b[33mb must be positive\u001b[39m\u001b[33m\"\u001b[39m)\n\u001b[32m     33\u001b[39m     \u001b[38;5;28mself\u001b[39m._b = b\n",
      "\u001b[31mValueError\u001b[39m: b must be positive"
     ]
    }
   ],
   "source": [
    "r = Rectangle(3., -4.)"
   ]
  },
  {
   "cell_type": "markdown",
   "id": "19479ddf-f7b7-49eb-aa7b-cb528fa68179",
   "metadata": {},
   "source": [
    "Il n'est plus possible de créer un `Rectangle` avec des dimensions négatives : une [erreur](https://docs.python.org/3/library/exceptions.html#ValueError) est levée."
   ]
  },
  {
   "cell_type": "code",
   "execution_count": 16,
   "id": "810719a3-708d-466f-b902-c68ef13ba843",
   "metadata": {},
   "outputs": [
    {
     "ename": "ValueError",
     "evalue": "a must be positive",
     "output_type": "error",
     "traceback": [
      "\u001b[31m---------------------------------------------------------------------------\u001b[39m",
      "\u001b[31mValueError\u001b[39m                                Traceback (most recent call last)",
      "\u001b[36mCell\u001b[39m\u001b[36m \u001b[39m\u001b[32mIn[16]\u001b[39m\u001b[32m, line 2\u001b[39m\n\u001b[32m      1\u001b[39m r = Rectangle(\u001b[32m3.\u001b[39m, \u001b[32m4.\u001b[39m)\n\u001b[32m----> \u001b[39m\u001b[32m2\u001b[39m \u001b[43mr\u001b[49m\u001b[43m.\u001b[49m\u001b[43ma\u001b[49m = -\u001b[32m1.\u001b[39m\n",
      "\u001b[36mCell\u001b[39m\u001b[36m \u001b[39m\u001b[32mIn[14]\u001b[39m\u001b[32m, line 15\u001b[39m, in \u001b[36mRectangle.a\u001b[39m\u001b[34m(self, a)\u001b[39m\n\u001b[32m     13\u001b[39m \u001b[38;5;129m@a\u001b[39m.setter\n\u001b[32m     14\u001b[39m \u001b[38;5;28;01mdef\u001b[39;00m\u001b[38;5;250m \u001b[39m\u001b[34ma\u001b[39m(\u001b[38;5;28mself\u001b[39m, a: \u001b[38;5;28mfloat\u001b[39m):\n\u001b[32m---> \u001b[39m\u001b[32m15\u001b[39m     \u001b[38;5;28;43mself\u001b[39;49m\u001b[43m.\u001b[49m\u001b[43m_set_a\u001b[49m\u001b[43m(\u001b[49m\u001b[43ma\u001b[49m\u001b[43m)\u001b[49m\n",
      "\u001b[36mCell\u001b[39m\u001b[36m \u001b[39m\u001b[32mIn[14]\u001b[39m\u001b[32m, line 19\u001b[39m, in \u001b[36mRectangle._set_a\u001b[39m\u001b[34m(self, a)\u001b[39m\n\u001b[32m     17\u001b[39m \u001b[38;5;28;01mdef\u001b[39;00m\u001b[38;5;250m \u001b[39m\u001b[34m_set_a\u001b[39m(\u001b[38;5;28mself\u001b[39m, a: \u001b[38;5;28mfloat\u001b[39m):\n\u001b[32m     18\u001b[39m     \u001b[38;5;28;01mif\u001b[39;00m \u001b[38;5;129;01mnot\u001b[39;00m a > \u001b[32m0\u001b[39m:\n\u001b[32m---> \u001b[39m\u001b[32m19\u001b[39m         \u001b[38;5;28;01mraise\u001b[39;00m \u001b[38;5;167;01mValueError\u001b[39;00m(\u001b[33m\"\u001b[39m\u001b[33ma must be positive\u001b[39m\u001b[33m\"\u001b[39m)\n\u001b[32m     20\u001b[39m     \u001b[38;5;28mself\u001b[39m._a = a\n",
      "\u001b[31mValueError\u001b[39m: a must be positive"
     ]
    }
   ],
   "source": [
    "r = Rectangle(3., 4.)\n",
    "r.a = -1."
   ]
  },
  {
   "cell_type": "markdown",
   "id": "7bb303fd-88fa-4bbc-a47f-1114b9868adf",
   "metadata": {},
   "source": [
    "On le voit, un même problème, même trivial, trouve de multiples solutions avec Python.\n",
    "Chacune a ses forces et ses faiblesses.\n",
    "Le choix dépend de beaucoup de critères : besoins fonctionnels, envergure du produit, maturité de l'équipe.\n",
    "Comme souvent, [il n'y a pas de baguette magique](https://fr.wikipedia.org/wiki/Pas_de_balle_en_argent).\n"
   ]
  }
 ],
 "metadata": {
  "kernelspec": {
   "display_name": "Python 3 (ipykernel)",
   "language": "python",
   "name": "python3"
  },
  "language_info": {
   "codemirror_mode": {
    "name": "ipython",
    "version": 3
   },
   "file_extension": ".py",
   "mimetype": "text/x-python",
   "name": "python",
   "nbconvert_exporter": "python",
   "pygments_lexer": "ipython3",
   "version": "3.12.3"
  }
 },
 "nbformat": 4,
 "nbformat_minor": 5
}
