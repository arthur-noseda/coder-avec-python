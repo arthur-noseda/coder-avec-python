{
 "cells": [
  {
   "cell_type": "markdown",
   "id": "338c131c-515f-4e66-b384-353666f8cee8",
   "metadata": {},
   "source": [
    "# Fonctions d'ordre supérieur\n",
    "\n",
    "Python traite les fonctions comme des [citoyens de première-classe](https://en.wikipedia.org/wiki/First-class_citizen).\n",
    "En particulier, on peut :\n",
    "\n",
    "* assigner une fonction à une variable\n",
    "* passer une fonction en argument d'une autre fonction,\n",
    "* retourner une fonction depuis une fonction.\n",
    "\n",
    "Voyons quelques exemples utiles de cette caractéristique du langage."
   ]
  },
  {
   "cell_type": "markdown",
   "id": "6a57a0e3-0367-40c4-856e-d61fb6e0e017",
   "metadata": {},
   "source": [
    "Assigner une fonction à une variable :"
   ]
  },
  {
   "cell_type": "code",
   "execution_count": 1,
   "id": "d00efc3d-2730-421f-8f21-d2a304668311",
   "metadata": {},
   "outputs": [
    {
     "data": {
      "text/plain": [
       "100"
      ]
     },
     "execution_count": 1,
     "metadata": {},
     "output_type": "execute_result"
    }
   ],
   "source": [
    "def square(x: int) -> int:\n",
    "    return x ** 2\n",
    "\n",
    "f = square\n",
    "\n",
    "f(10)"
   ]
  },
  {
   "cell_type": "markdown",
   "id": "2c65c082-3554-438e-bf47-a4c672339a32",
   "metadata": {},
   "source": [
    "Passer une fonction en argument d'une autre fonction :"
   ]
  },
  {
   "cell_type": "code",
   "execution_count": 2,
   "id": "11109228-d157-4993-8c67-5052dd4d94a0",
   "metadata": {},
   "outputs": [
    {
     "data": {
      "text/plain": [
       "'Hello JOHN!'"
      ]
     },
     "execution_count": 2,
     "metadata": {},
     "output_type": "execute_result"
    }
   ],
   "source": [
    "from collections.abc import Callable\n",
    "\n",
    "def greet(name: str, f: Callable[[str], str]) -> str:\n",
    "    return f\"Hello {f(name)}!\"\n",
    "\n",
    "greet(\"John\", str.upper)"
   ]
  },
  {
   "cell_type": "markdown",
   "id": "90af14eb-25cb-4452-acd1-f0616e39d2ae",
   "metadata": {},
   "source": [
    "Retourner une fonction depuis une fonction :"
   ]
  },
  {
   "cell_type": "code",
   "execution_count": 3,
   "id": "b733093f-dbbd-4e15-b817-03aba99dc939",
   "metadata": {},
   "outputs": [
    {
     "data": {
      "text/plain": [
       "15"
      ]
     },
     "execution_count": 3,
     "metadata": {},
     "output_type": "execute_result"
    }
   ],
   "source": [
    "from collections.abc import Callable\n",
    "\n",
    "def partial_add(a: int) -> Callable[[int], int]:\n",
    "    def add(b: int) -> int:\n",
    "        return a + b\n",
    "    return add\n",
    "\n",
    "add10 = partial_add(10)\n",
    "add10(5)"
   ]
  },
  {
   "cell_type": "markdown",
   "id": "c8fbbbb4-ed3c-48a0-a2e7-ee80f902e29a",
   "metadata": {},
   "source": [
    "L'exemple ci-dessus réalise une [curryfication](https://fr.wikipedia.org/wiki/Curryfication), du nom du mathématicien [Haskell Curry](https://fr.wikipedia.org/wiki/Haskell_Curry).\n",
    "\n",
    "On aurait pu utiliser les fonctions `partial` et `add` pour accomplir le même objectif :"
   ]
  },
  {
   "cell_type": "code",
   "execution_count": 4,
   "id": "a3f4f11f-951c-4a75-af89-8dcc1882208b",
   "metadata": {},
   "outputs": [
    {
     "data": {
      "text/plain": [
       "15"
      ]
     },
     "execution_count": 4,
     "metadata": {},
     "output_type": "execute_result"
    }
   ],
   "source": [
    "from functools import partial\n",
    "from operator import add\n",
    "\n",
    "add10 = partial(add, 10)\n",
    "add10(5)"
   ]
  },
  {
   "cell_type": "markdown",
   "id": "456a32a0-eef9-4999-8f96-e7d2c30973ac",
   "metadata": {},
   "source": [
    "## Les fonctions anonymes\n",
    "\n",
    "On les appelle souvent [lambdas](https://fr.wikipedia.org/wiki/Fonction_anonyme).\n",
    "Il s'agit de fonctions qui n'ont pas de nom.\n",
    "En général, elles sont définies directement dans le contexte où elles sont utilisées.\n",
    "Comme les lambdas sont des fonctions, on peut les utiliser partout où une fonction est attendue, essentiellement pour gagner en concision.\n",
    "\n",
    "Comme les fonctions classiques, on peut assigner une lambda à une variable."
   ]
  },
  {
   "cell_type": "code",
   "execution_count": 5,
   "id": "4c7aea2e-eac3-4242-a426-b1af51144374",
   "metadata": {},
   "outputs": [
    {
     "data": {
      "text/plain": [
       "4"
      ]
     },
     "execution_count": 5,
     "metadata": {},
     "output_type": "execute_result"
    }
   ],
   "source": [
    "to_square = lambda x: x ** 2\n",
    "to_square(2)"
   ]
  },
  {
   "cell_type": "markdown",
   "id": "e10aa86e-b8b2-414d-88a6-5cb943b7a4ce",
   "metadata": {},
   "source": [
    "Les lambdas sont souvent passées en argument d'une autre fonction.\n",
    "Par exemple, le premier argument de la fonction `map` doit être une fonction qui à chaque élément d'un [iterable](https://docs.python.org/3.15/glossary.html#term-iterable) fait correspondre un nouvel élément."
   ]
  },
  {
   "cell_type": "code",
   "execution_count": 6,
   "id": "8e425f20-9d28-4bf6-9e48-8521a863ed62",
   "metadata": {},
   "outputs": [
    {
     "data": {
      "text/plain": [
       "[1, 4, 9, 16, 25, 36]"
      ]
     },
     "execution_count": 6,
     "metadata": {},
     "output_type": "execute_result"
    }
   ],
   "source": [
    "nums = [1, 2, 3, 4, 5, 6]\n",
    "squares = list(map(lambda x: x ** 2, nums))\n",
    "squares"
   ]
  },
  {
   "cell_type": "code",
   "execution_count": 7,
   "id": "cc42eb1f-e5e0-4229-8e85-990672b1acf1",
   "metadata": {},
   "outputs": [
    {
     "data": {
      "text/plain": [
       "['HELLO', 'WORLD']"
      ]
     },
     "execution_count": 7,
     "metadata": {},
     "output_type": "execute_result"
    }
   ],
   "source": [
    "words = [\"Hello\", \"World\"]\n",
    "upper = list(map(lambda word: word.upper(), words))\n",
    "upper"
   ]
  },
  {
   "cell_type": "markdown",
   "id": "64ac7c27-9970-4a20-af20-e23d664d5111",
   "metadata": {},
   "source": [
    "Ce dernier exemple peut même se passer de lambda.\n",
    "Il est encore plus simple de passer directement la fonction `str.upper` en argument."
   ]
  },
  {
   "cell_type": "code",
   "execution_count": 8,
   "id": "a770f52b-8244-4dfa-b356-f3765bc9b462",
   "metadata": {},
   "outputs": [
    {
     "data": {
      "text/plain": [
       "['HELLO', 'WORLD']"
      ]
     },
     "execution_count": 8,
     "metadata": {},
     "output_type": "execute_result"
    }
   ],
   "source": [
    "words = [\"Hello\", \"World\"]\n",
    "upper = list(map(str.upper, words))\n",
    "upper"
   ]
  },
  {
   "cell_type": "markdown",
   "id": "bc42dff3-728e-4e87-819c-40c41ad5a714",
   "metadata": {},
   "source": [
    "Comme pour `map`, la fonction `filter` admet comme premier argument une fonction qui pour chaque élément d'une iterable retourne un `bool`.\n",
    "Si la fonction retourne `true`, alors l'élément est conservé dans l'itérateur."
   ]
  },
  {
   "cell_type": "code",
   "execution_count": 9,
   "id": "4b0ac0e7-274e-4902-9b10-895bb7f972be",
   "metadata": {},
   "outputs": [
    {
     "data": {
      "text/plain": [
       "[4, 16, 36]"
      ]
     },
     "execution_count": 9,
     "metadata": {},
     "output_type": "execute_result"
    }
   ],
   "source": [
    "nums = [1, 2, 3, 4, 5, 6]\n",
    "squares_of_even = list(map(lambda x: x ** 2, filter(lambda x: x % 2 == 0, nums)))\n",
    "squares_of_even"
   ]
  },
  {
   "cell_type": "markdown",
   "id": "3ac6a42c-f2b5-4d38-a5dd-bdbf3a4ba5bb",
   "metadata": {},
   "source": [
    "Dans l'exemple ci-dessus, qui combine `filter` et `map`, on pourra argumenter sur la lourdeur de la syntaxe, notamment comparé à une [compréhension de liste](https://fr.wikipedia.org/wiki/Liste_en_compr%C3%A9hension) :"
   ]
  },
  {
   "cell_type": "code",
   "execution_count": 10,
   "id": "3ccf8d56-fc69-40a2-ae70-0e4f7e6798ca",
   "metadata": {},
   "outputs": [
    {
     "data": {
      "text/plain": [
       "[4, 16, 36]"
      ]
     },
     "execution_count": 10,
     "metadata": {},
     "output_type": "execute_result"
    }
   ],
   "source": [
    "nums = [1, 2, 3, 4, 5, 6]\n",
    "squares_of_even = [x ** 2 for x in nums if x % 2 == 0]\n",
    "squares_of_even"
   ]
  },
  {
   "cell_type": "markdown",
   "id": "c5e1efb5-bb43-469d-a76f-3be997d9f573",
   "metadata": {},
   "source": [
    "La fonction [`reduce`](https://docs.python.org/3/library/functools.html) permet de combiner ensemble les éléments d'un iterable.\n",
    "Le premier argument de la fonction `reduce` est une fonction qui indique pour un couple d'éléments comment il convient de les combiner."
   ]
  },
  {
   "cell_type": "code",
   "execution_count": 11,
   "id": "9c713476-fd05-4db6-8f4d-f1cd6719b87e",
   "metadata": {},
   "outputs": [
    {
     "data": {
      "text/plain": [
       "91"
      ]
     },
     "execution_count": 11,
     "metadata": {},
     "output_type": "execute_result"
    }
   ],
   "source": [
    "from functools import reduce\n",
    "\n",
    "a = [1, 2, 3, 4, 5, 6]\n",
    "sum_of_squares = reduce(lambda x, y: x + y, map(lambda x: x ** 2, a), 0)\n",
    "sum_of_squares"
   ]
  },
  {
   "cell_type": "markdown",
   "id": "4195b7e1-ab5d-4b7c-94f2-cf69b4ec456b",
   "metadata": {},
   "source": [
    "On peut améliorer la lisibilité de l'exemple précédent, en important la fonction `add`, qui remplace avantagement la première lambda :"
   ]
  },
  {
   "cell_type": "code",
   "execution_count": 12,
   "id": "3d0d7c97-a0c9-4745-8ef5-08c37405e72f",
   "metadata": {},
   "outputs": [
    {
     "data": {
      "text/plain": [
       "91"
      ]
     },
     "execution_count": 12,
     "metadata": {},
     "output_type": "execute_result"
    }
   ],
   "source": [
    "from functools import reduce\n",
    "from operator import add\n",
    "\n",
    "a = [1, 2, 3, 4, 5, 6]\n",
    "sum_of_squares = reduce(add, map(lambda x: x ** 2, a), 0)\n",
    "sum_of_squares"
   ]
  },
  {
   "cell_type": "markdown",
   "id": "f121cb5b-149a-42d2-93b5-10b070aab2ef",
   "metadata": {},
   "source": [
    "La fonction `sorted` permet de trier un iterable, au moyen d'une fonction qui retourne la clé d'indexation de l'élément dans la liste retournée."
   ]
  },
  {
   "cell_type": "code",
   "execution_count": 13,
   "id": "784c3356-119a-4732-9254-1ffda8412f16",
   "metadata": {},
   "outputs": [
    {
     "data": {
      "text/plain": [
       "[Eric Idle,\n",
       " Graham Chapman,\n",
       " John Cleese,\n",
       " Michael Palin,\n",
       " Terry Gilliam,\n",
       " Terry Jones]"
      ]
     },
     "execution_count": 13,
     "metadata": {},
     "output_type": "execute_result"
    }
   ],
   "source": [
    "class Person:\n",
    "\n",
    "    def __init__(self, first_name, last_name):\n",
    "        self.first_name = first_name\n",
    "        self.last_name = last_name\n",
    "\n",
    "    def __repr__(self):\n",
    "        return f\"{self.first_name} {self.last_name}\"\n",
    "\n",
    "pythons = [Person(\"Graham\", \"Chapman\"),\n",
    "           Person(\"John\", \"Cleese\"),\n",
    "           Person(\"Eric\", \"Idle\"),\n",
    "           Person(\"Michael\", \"Palin\"),\n",
    "           Person(\"Terry\", \"Jones\"),\n",
    "           Person(\"Terry\", \"Gilliam\")]\n",
    "\n",
    "sorted_pythons = sorted(pythons, key=lambda p: (p.first_name, p.last_name))\n",
    "sorted_pythons"
   ]
  },
  {
   "cell_type": "markdown",
   "id": "19e9cfc3-f0d7-4cd8-8f0a-ccc6b1e3165d",
   "metadata": {},
   "source": [
    "Pour aller plus loin :\n",
    "\n",
    "* https://docs.python.org/3.15/library/functools.html\n",
    "* https://docs.python.org/3.15/howto/sorting.html\n",
    "\n",
    "## Développer des fonctions d'ordre supérieur\n",
    "\n",
    "Une [fonction d'ordre supérieur](https://fr.wikipedia.org/wiki/Fonction_d%27ordre_sup%C3%A9rieur) est une fonction qui admet au moins l'une de ces 2 caractéristiques :\n",
    "\n",
    "* Elle prend une autre fonction en argument\n",
    "* Elle retourne une fonction.\n",
    "\n",
    "La bibliothèque standard de Python contient déjà des fonctions d'ordre supérieur comme `map`, `filter` et `reduce`, mais nous pouvons aussi développer les nôtres, pour implémenter des solutions élégantes et compactes.\n",
    "\n",
    "Dans l'exemple ci-dessous, `execute` exécute la fonction `sum_of_ints` passée en argument et détermine le temps de réponse."
   ]
  },
  {
   "cell_type": "code",
   "execution_count": 14,
   "id": "0f48b209-c4d4-435c-9da3-b2b76e1728d7",
   "metadata": {},
   "outputs": [
    {
     "name": "stdout",
     "output_type": "stream",
     "text": [
      "L'exécution de la fonction sum_of_ints a duré 0.062 s et a retourné 499999500000.\n"
     ]
    }
   ],
   "source": [
    "import time\n",
    "\n",
    "def execute(f):\n",
    "    start = time.monotonic()\n",
    "    result = f()\n",
    "    end = time.monotonic()\n",
    "    return (result, end - start)\n",
    "\n",
    "def sum_of_ints() -> int:\n",
    "    \"\"\"Une fonction quelconque qui retourne la somme des entiers jusqu'à 1 000 000.\"\"\"\n",
    "    result = 0\n",
    "    for i in range(1000000):\n",
    "        result += i\n",
    "    return result\n",
    "\n",
    "(result, duration) = execute(sum_of_ints)\n",
    "\n",
    "print(f\"L'exécution de la fonction {sum_of_ints.__name__} a duré {duration:.3f} s et a retourné {result}.\")"
   ]
  },
  {
   "cell_type": "markdown",
   "id": "0cf93101-a376-4b7d-bbc9-195b6c6ac5af",
   "metadata": {},
   "source": [
    "Dans les exemples ci-dessous, `greeter` et `die` retournent une [closure](https://fr.wikipedia.org/wiki/Fermeture_(informatique)).\n",
    "Par exemple une lambda retournée par `greeter` encapsule l'argument `greeting` passé en argument de `greeter`."
   ]
  },
  {
   "cell_type": "code",
   "execution_count": 15,
   "id": "b0e1b63f-5b0e-4824-9117-f3c917bdd699",
   "metadata": {},
   "outputs": [
    {
     "data": {
      "text/plain": [
       "'Hello, John!'"
      ]
     },
     "execution_count": 15,
     "metadata": {},
     "output_type": "execute_result"
    }
   ],
   "source": [
    "from collections.abc import Callable\n",
    "\n",
    "def greeter(greeting: str) -> Callable[[str], str]:\n",
    "    return lambda name: f\"{greeting}, {name}!\"\n",
    "\n",
    "hello = greeter(\"Hello\")\n",
    "hello(\"John\")"
   ]
  },
  {
   "cell_type": "code",
   "execution_count": 16,
   "id": "729fe1d5-1ae9-451d-9db5-898d6a9952f6",
   "metadata": {},
   "outputs": [
    {
     "name": "stdout",
     "output_type": "stream",
     "text": [
      "Counter({4: 20, 2: 19, 6: 18, 5: 16, 3: 14, 1: 13})\n"
     ]
    }
   ],
   "source": [
    "from collections.abc import Callable\n",
    "from random import randint\n",
    "from collections import Counter\n",
    "\n",
    "def die(sides: int) -> Callable[[], int]:\n",
    "    return lambda: randint(1, sides)\n",
    "\n",
    "d6 = die(6)\n",
    "# Lancer 100 fois le d6 et compter le nombre de 1, de 2, etc.\n",
    "print(Counter([d6() for _ in range(100)]))"
   ]
  }
 ],
 "metadata": {
  "kernelspec": {
   "display_name": "Python 3 (ipykernel)",
   "language": "python",
   "name": "python3"
  },
  "language_info": {
   "codemirror_mode": {
    "name": "ipython",
    "version": 3
   },
   "file_extension": ".py",
   "mimetype": "text/x-python",
   "name": "python",
   "nbconvert_exporter": "python",
   "pygments_lexer": "ipython3",
   "version": "3.12.3"
  }
 },
 "nbformat": 4,
 "nbformat_minor": 5
}
